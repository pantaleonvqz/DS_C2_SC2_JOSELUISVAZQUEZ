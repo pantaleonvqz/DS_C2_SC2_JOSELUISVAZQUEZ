import pandas as pd #se importa pandas para poder utilizarlo

def obtenerDatos()
  #se lee el archivo csv
  #a. Extraer la información del archivo. 
  linea = pd.read_csv('country_vaccinations.csv');
  
  #b. Mostrar la estructura y tipos de datos de cada columna para identificar qué operaciones puedes realizar con cada una de ellas, asegurándote que las columnas con fechas sean del tipo datetime64.
  linea[date] = pd.to_datetime(linea[date])
  linea.info()
  
  #c. Determinar la cantidad de vacunas aplicadas de cada compañía (con base en cómo lo reporta cada país en la columna vaccines, en otras palabras, agrupe por vaccines y realice la sumatoria).  
  print(Total de  vacunas aplicadas por compañía)
  print(linea['people_vaccinated'].groupby([linea['vaccines']]).sum())

  #d. Obtener la cantidad de vacunas aplicadas en todo el mundo. 
  print(Total de vacunas aplicadas en todo el mundo)
  print(linea['people_vaccinated'].sum())

  #e. Calcular el promedio de vacunas aplicadas por país.
  print(Promedio de vacunas aplicadas por país)
  print(linea['people_vaccinated'].groupby([linea['country']]).mean())
  
  #f. Determinar la cantidad de vacunas aplicadas el día 290121 en todo el mundo.
  print(Total de vacunas aplicadas el día 290121 en todo el mundo)
  print(linea['people_vaccinated'].groupby([linea['date']]).sum())

  #g. Crear un dataframe nuevo denominado conDiferencias que contenga los datos originales y una columna derivada (diferencias) con las diferencias de aplicación entre las columnas daily_vaccionations y daily_vaccionations_raw.
  conDiferencias = linea.copy()#copiando los datos originales para extraer información
  conDiferencias[daily_vaccinations] = conDiferencias[daily_vaccinations].fillna(0)
  conDiferencias[daily_vaccinations_raw] = conDiferencias[daily_vaccinations_raw].fillna(0)  
  conDiferencias[diferencias] = conDiferencias[daily_vaccinations]-conDiferencias[daily_vaccinations_raw]

  #h. Obtener el período de tiempo entre el registro con fecha más reciente y el registro con fecha más antigua.
  print(Periodo de tiempo entre el registro con fecha más reciente y el registro con fecha más antigua)
  print(linea['date'].max() - linea['date'].min())

  #i. Crear un dataframe nuevo denominado conCantidad que contenga los datos originales y una columna derivada (canVac) con la cantidad de vacunas utilizadas cada día (usar la columna vaccines y separar por el carácter 
  conCantidad = linea.copy()#copiando los datos originales para extraer información
  conCantidad[canVac] = conCantidad[vaccines].str.split(,).str.len()

  #j. Generar un dataframe denominado antes20 con todos los registros que se hayan realizado antes del 20 de diciembre de 2020.
  antes20 = linea.copy()#copiando los datos originales para extraer información
  antes20 = antes20[antes20['date']  '2020-12-20']

  #k. Obtener un dataframe denominado pfizer con todos los registros donde se haya utilizado la vacuna Pfizer.
  pfizer = linea.copy()
  pfizer = pfizer[pfizer['vaccines'].str.contains('Pfizer')]

  #l. Almacenar los dataframes generados (conDiferencias, conCantidad, antes20 y pfizer) en un archivo de Excel denominado resultadosReto.xlsx, donde cada dataframe ocupe una hoja diferente.
  with pd.ExcelWriter(DS_C2_SC2_JLVP.xlsx) as writer
      conDiferencias.to_excel(writer, sheet_name=Con diferencias)
      conCantidad.to_excel(writer, sheet_name=Con cantidad)
      antes20.to_excel(writer, sheet_name=Antes del 20)
      pfizer.to_excel(writer, sheet_name=Pfizer)  

obtenerDatos()